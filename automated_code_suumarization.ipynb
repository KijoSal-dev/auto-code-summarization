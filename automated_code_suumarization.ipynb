{
  "nbformat": 4,
  "nbformat_minor": 0,
  "metadata": {
    "colab": {
      "provenance": [],
      "authorship_tag": "ABX9TyMlQ+D6XXxl0TVEKYMJGXCu",
      "include_colab_link": true
    },
    "kernelspec": {
      "name": "python3",
      "display_name": "Python 3"
    },
    "language_info": {
      "name": "python"
    }
  },
  "cells": [
    {
      "cell_type": "markdown",
      "metadata": {
        "id": "view-in-github",
        "colab_type": "text"
      },
      "source": [
        "<a href=\"https://colab.research.google.com/github/KijoSal-dev/auto-code-summarization/blob/main/automated_code_suumarization.ipynb\" target=\"_parent\"><img src=\"https://colab.research.google.com/assets/colab-badge.svg\" alt=\"Open In Colab\"/></a>"
      ]
    },
    {
      "cell_type": "code",
      "source": [
        "from transformers import AutoTokenizer, AutoModelForSeq2SeqLM\n",
        "\n",
        "# 1. Load a pretrained code-summarization model\n",
        "tokenizer = AutoTokenizer.from_pretrained(\"Salesforce/codet5-small\")\n",
        "model = AutoModelForSeq2SeqLM.from_pretrained(\"Salesforce/codet5-small\")\n",
        "\n",
        "# 2. Example function to summarize\n",
        "code = \"\"\"\n",
        "def calculate_tax(income, threshold=35000):\n",
        "    \\\"\"\"\n",
        "    Calculates tax owed: 0% up to threshold,\n",
        "    20% above threshold.\n",
        "    \\\"\"\"\n",
        "    if income <= threshold:\n",
        "        return 0\n",
        "    return (income - threshold) * 0.2\n",
        "\"\"\"\n",
        "\n",
        "# 3. Tokenize: wrap code in a prompt\n",
        "inputs = tokenizer(\"summarize: \" + code, return_tensors=\"pt\")\n",
        "\n",
        "# 4. Generate summary tokens\n",
        "summary_ids = model.generate(**inputs, max_length=50)\n",
        "\n",
        "# 5. Decode to text\n",
        "print(tokenizer.decode(summary_ids[0], skip_special_tokens=True))"
      ],
      "metadata": {
        "colab": {
          "base_uri": "https://localhost:8080/"
        },
        "id": "3Gb804QjteSB",
        "outputId": "06a27ba1-c145-464c-98e2-c7513dcdbb88"
      },
      "execution_count": 3,
      "outputs": [
        {
          "output_type": "stream",
          "name": "stdout",
          "text": [
            "0.2\n"
          ]
        }
      ]
    }
  ]
}